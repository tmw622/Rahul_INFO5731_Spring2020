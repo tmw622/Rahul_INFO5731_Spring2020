{
  "nbformat": 4,
  "nbformat_minor": 0,
  "metadata": {
    "colab": {
      "name": "Assignment7.ipynb",
      "provenance": [],
      "authorship_tag": "ABX9TyOvZl8lOrENIte+QMvo2SxS",
      "include_colab_link": true
    },
    "kernelspec": {
      "name": "python3",
      "display_name": "Python 3"
    }
  },
  "cells": [
    {
      "cell_type": "markdown",
      "metadata": {
        "id": "view-in-github",
        "colab_type": "text"
      },
      "source": [
        "<a href=\"https://colab.research.google.com/github/ettubrute-INFO/Rahul_INFO5731_Spring2020/blob/master/Assignment7.ipynb\" target=\"_parent\"><img src=\"https://colab.research.google.com/assets/colab-badge.svg\" alt=\"Open In Colab\"/></a>"
      ]
    },
    {
      "cell_type": "code",
      "metadata": {
        "id": "3I84G-cmoi-S",
        "colab_type": "code",
        "colab": {}
      },
      "source": [
        "import turtle\n",
        "\n",
        "def draw_square(turtle, size, instruct): \n",
        "    if instruct < 10:\n",
        "        turtle.forward(size)\n",
        "        turtle.left(90)\n",
        "        draw_square(turtle, size, instruct + 1)\n",
        "\n",
        "\n",
        "def draw_rec(rect, side):\n",
        "   rectangle.penup()\n",
        "   rectangle.forward(50)\n",
        "   rectangle.pendown()\n",
        "   if side < 10:\n",
        "       draw_square(rect, 20, 1)\n",
        "       draw_rec(rect, side + 1)\n",
        "\n",
        "window = turtle.Screen()\n",
        "window.bgcolor(\"blue\")\n",
        "rectangle = turtle.Turtle()\n",
        "rectangle.color(\"purple\")\n",
        "rectangle.pensize(6)\n",
        "draw_rec(rectangle, 1)\n",
        "window.mainloop()"
      ],
      "execution_count": 0,
      "outputs": []
    },
    {
      "cell_type": "markdown",
      "metadata": {
        "id": "0HzIx93cokuv",
        "colab_type": "text"
      },
      "source": [
        "Question 1"
      ]
    },
    {
      "cell_type": "code",
      "metadata": {
        "id": "MQP1WyxRomAg",
        "colab_type": "code",
        "colab": {
          "base_uri": "https://localhost:8080/",
          "height": 34
        },
        "outputId": "10d30d3a-c93f-4421-e653-417aedb6f79c"
      },
      "source": [
        "listNumber = [2,14,435,234,[13,22,9,34,16,\n",
        "                         [32,3,204,2,17,98,3,12,43,20,\n",
        "                          [322,4,21,35,\n",
        "                           [13,2,79,3],2,7]]]]\n",
        "\n",
        "def recursion(listNumber, number):\n",
        "    total = 0\n",
        "    for element in listNumber:\n",
        "        if type(element) is list:\n",
        "            total += recursion(element, number)\n",
        "        else:\n",
        "            if element == number:\n",
        "                total += 1\n",
        "    return total\n",
        "\n",
        "print(recursion(listNumber, 2))"
      ],
      "execution_count": 4,
      "outputs": [
        {
          "output_type": "stream",
          "text": [
            "4\n"
          ],
          "name": "stdout"
        }
      ]
    },
    {
      "cell_type": "markdown",
      "metadata": {
        "id": "Ih8pvQA2p-zA",
        "colab_type": "text"
      },
      "source": [
        "Question 2"
      ]
    }
  ]
}