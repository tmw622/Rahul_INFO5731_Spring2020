{
  "nbformat": 4,
  "nbformat_minor": 0,
  "metadata": {
    "colab": {
      "name": "Assignment10:Part1AndPart2.ipynb",
      "provenance": [],
      "authorship_tag": "ABX9TyOh4l7yNTsQR78cUrwMG6wt",
      "include_colab_link": true
    },
    "kernelspec": {
      "name": "python3",
      "display_name": "Python 3"
    }
  },
  "cells": [
    {
      "cell_type": "markdown",
      "metadata": {
        "id": "view-in-github",
        "colab_type": "text"
      },
      "source": [
        "<a href=\"https://colab.research.google.com/github/ettubrute-INFO/Rahul_INFO5731_Spring2020/blob/master/Assignment10_Part1AndPart2.ipynb\" target=\"_parent\"><img src=\"https://colab.research.google.com/assets/colab-badge.svg\" alt=\"Open In Colab\"/></a>"
      ]
    },
    {
      "cell_type": "code",
      "metadata": {
        "id": "3EBlCWzLWZ_u",
        "colab_type": "code",
        "colab": {}
      },
      "source": [
        "import pymysql\n",
        "\n",
        "\n",
        "def retrievedata():\n",
        "    database = pymysql.connect(\"rahulsagi\",\"Desktop\",\"python3020\",\"world\")\n",
        "    cursor = database.cursor()\n",
        "    sqlcode = \"select * from country\"\n",
        "    cursor.execute(sqlcode)\n",
        "    info = cursor.fetchall()\n",
        "    cursor.close()\n",
        "    db.close()\n",
        "    return info\n",
        "\n",
        "def getname(name):\n",
        "    namecolumn = pymysql.connect(\"rahulsagi\",\"Desktop\",\"python3020\",\"world\")\n",
        "    cursor = db.cursor()\n",
        "    sqlcode = \"select * from country where Name='\"+ name +\"'\"\n",
        "    cursor.execute(sqlcode)\n",
        "    infoname = cursor.fetchall()\n",
        "    cursor.close()\n",
        "    namecolumn.close()\n",
        "    return infoname\n",
        "\n",
        "def printdata(countrydata):\n",
        "    print(\"Code \\t Name \\t Contnent \\t\\t Region\")\n",
        "    print(\"-------------\")\n",
        "    for row in data:\n",
        "        print(str(row[0]) + \"\\t\\t\" + row[1] + \"\\t\" + row[2] + \"\\t\\t\" + str(row[3]))\n",
        "        print(\"---------\")\n",
        "    data = \"\"\n",
        "\n",
        "countrydata = retrievedata()\n",
        "printdata(countrydata)\n",
        "data = getname('India')\n",
        "printdata(countrydata)"
      ],
      "execution_count": 0,
      "outputs": []
    },
    {
      "cell_type": "markdown",
      "metadata": {
        "id": "eDWLuSfYWaw9",
        "colab_type": "text"
      },
      "source": [
        "Question 1 Part 1"
      ]
    },
    {
      "cell_type": "code",
      "metadata": {
        "id": "WaROn1SqWcuK",
        "colab_type": "code",
        "colab": {}
      },
      "source": [
        "def student():\n",
        "    database = pymysql.connect(\"rahulsagi\", \"Desktop\", \"python3020\", \"pydb\")\n",
        "    dbcursor = database.cursor()\n",
        "    studentname = input(\"Input name of the student: \")\n",
        "    studentmajor = input(\"Input student's major: \")\n",
        "    studentyear = int(input(\"Input the year of the student: \"))\n",
        "    tuition = float(input(\"Input cost of the student's tuition: \"))\n",
        "    description = input(\"Input student description: \")\n",
        "\n",
        "    sql=\"insert into tstudent(studentuname, studentmajor, studentyear, tuition, description) values(%s,%s,%s,%s,%s)\"\n",
        "    values=(studentname, studentmajor, studentyear, tuition, description)\n",
        "    dbcursor.execute(sql, values)\n",
        "    database.commit()\n",
        "    dbcursor.close()\n",
        "    database.close()\n",
        "\n",
        "student()"
      ],
      "execution_count": 0,
      "outputs": []
    },
    {
      "cell_type": "markdown",
      "metadata": {
        "id": "sKMYEjPSXU9r",
        "colab_type": "text"
      },
      "source": [
        "Question 1 Part 2"
      ]
    },
    {
      "cell_type": "code",
      "metadata": {
        "id": "XlknvCLbXW85",
        "colab_type": "code",
        "colab": {}
      },
      "source": [
        "def deletestudent():\n",
        "    database = pymysql.connect(\"rahulsagi\", \"Desktop\", \"python3020\", \"pydb\")\n",
        "    dbcursor = database.cursor()\n",
        "    studentid = int(input(\"Please input the id of the student that is going to be deleted:\"))\n",
        "    sql = \"delete from tstudent where studentid=%s\"\n",
        "    dbcursor.execute(sql,stuid)\n",
        "    database.commit()\n",
        "    dbcursor.close()\n",
        "    database.close()\n",
        "\n",
        "deletestudent()"
      ],
      "execution_count": 0,
      "outputs": []
    },
    {
      "cell_type": "markdown",
      "metadata": {
        "id": "-wyGHA--YBoa",
        "colab_type": "text"
      },
      "source": [
        "Question 2 Part 2"
      ]
    },
    {
      "cell_type": "code",
      "metadata": {
        "id": "yVNDc8MFYDLk",
        "colab_type": "code",
        "colab": {}
      },
      "source": [
        "def editstudentinformation():\n",
        "    database = pymysql.connect(\"localhost\", \"root\", \"python3020\", \"pydb\")\n",
        "    dbcursor = db.cursor()\n",
        "    studentid = int(input(\"please input the student id:\"))\n",
        "    studentname = input(\"please input student's name:\")\n",
        "    studentmajor = input(\"please input student's major:\")\n",
        "    studentyear = int(input(\"please input year of student:\"))\n",
        "    tuition = float(input(\"please input student's tutition:\"))\n",
        "    description = input(\"please input student description:\")\n",
        "\n",
        "    sql=\"update tstudent set studentname=%s,studentmajor=%s,studentyear=%s,tuition=%s,description=%s where studentid=%s\"\n",
        "    values=(studentname, studentmajor, studentyear, tuition, description, studentid)\n",
        "    dbcursor.execute(sql,values)\n",
        "    database.commit()\n",
        "    dbcursor.close()\n",
        "    database.close()\n",
        "\n",
        "editstudentinformation()"
      ],
      "execution_count": 0,
      "outputs": []
    },
    {
      "cell_type": "markdown",
      "metadata": {
        "id": "B7m6aEluY4s6",
        "colab_type": "text"
      },
      "source": [
        "Question 3 Part 2"
      ]
    },
    {
      "cell_type": "code",
      "metadata": {
        "id": "-aq-OiVLY6Qq",
        "colab_type": "code",
        "colab": {}
      },
      "source": [
        "def numberstudent():\n",
        "    database = pymysql.connect(\"rahulsagi\", \"Desktop\", \"python3020\", \"pydb\")\n",
        "    dbcursor = db.cursor()\n",
        "    studentmajor=input(\"please input student's major that will be counted:\")\n",
        "\n",
        "\n",
        "    sql=\"select count(*) as totalstudent from tstudent group by major having major=%s\"\n",
        "    dbcursor.execute(sql, studentmajor)\n",
        "    result = dbcursor.fetchone()\n",
        "    print(\"there are \"+ str(result[0]) + \"  students who have this \"+ studentmajor)\n",
        "    dbcursor.close()\n",
        "    database.close()\n",
        "\n",
        "numberstudent()"
      ],
      "execution_count": 0,
      "outputs": []
    },
    {
      "cell_type": "markdown",
      "metadata": {
        "id": "kDTohfmTZY3b",
        "colab_type": "text"
      },
      "source": [
        "Question 4 Part 2"
      ]
    },
    {
      "cell_type": "code",
      "metadata": {
        "id": "tghXu-DfZaqr",
        "colab_type": "code",
        "colab": {}
      },
      "source": [
        "def randomstudentinfo():\n",
        "    database = pymysql.connect(\"rahulsagi\", \"Desktop\", \"python3020\", \"pydb\")\n",
        "    dbcursor = db.cursor()\n",
        "\n",
        "    sql = \"select * from tstudent\"\n",
        "    studentidlist = []\n",
        "    dbcursor.execute(sql)\n",
        "    studentidname = dbcursor.fetchall()\n",
        "\n",
        "    for randomstud in studentidname:\n",
        "        studentidlist.append([randomstud[0],randomstud[1]])\n",
        "\n",
        "    import random\n",
        "    randomid = random.randint(0,len(studentidlist))\n",
        "    print(studentidlist[randomid - 1])\n",
        "    dbcursor.close()\n",
        "    database.close()\n",
        "\n",
        "randomstudentinfo()"
      ],
      "execution_count": 0,
      "outputs": []
    },
    {
      "cell_type": "markdown",
      "metadata": {
        "id": "tJ3KKSOyaE-b",
        "colab_type": "text"
      },
      "source": [
        "Question 5 Part 2"
      ]
    }
  ]
}