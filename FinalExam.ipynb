{
  "nbformat": 4,
  "nbformat_minor": 0,
  "metadata": {
    "colab": {
      "name": "FinalExam.ipynb",
      "provenance": [],
      "mount_file_id": "16dyusFCIxYlqFyRVIeh9eBHJQhLW-3ri",
      "authorship_tag": "ABX9TyPSx6wqsb1cO9vXbcCfmkvO",
      "include_colab_link": true
    },
    "kernelspec": {
      "name": "python3",
      "display_name": "Python 3"
    }
  },
  "cells": [
    {
      "cell_type": "markdown",
      "metadata": {
        "id": "view-in-github",
        "colab_type": "text"
      },
      "source": [
        "<a href=\"https://colab.research.google.com/github/ettubrute-INFO/Rahul_INFO5731_Spring2020/blob/master/FinalExam.ipynb\" target=\"_parent\"><img src=\"https://colab.research.google.com/assets/colab-badge.svg\" alt=\"Open In Colab\"/></a>"
      ]
    },
    {
      "cell_type": "code",
      "metadata": {
        "id": "KmExXm-fajeH",
        "colab_type": "code",
        "colab": {
          "base_uri": "https://localhost:8080/",
          "height": 51
        },
        "outputId": "0d8f4748-ade9-46bf-9bd7-1465b1bc525b"
      },
      "source": [
        "def string_input(val):\n",
        "    val = input(\"Please enter a string: \")\n",
        "    return val\n",
        "\n",
        "string_input(\"\")"
      ],
      "execution_count": 6,
      "outputs": [
        {
          "output_type": "stream",
          "text": [
            "Please enter a string: Hello World\n"
          ],
          "name": "stdout"
        },
        {
          "output_type": "execute_result",
          "data": {
            "text/plain": [
              "'Hello World'"
            ]
          },
          "metadata": {
            "tags": []
          },
          "execution_count": 6
        }
      ]
    },
    {
      "cell_type": "markdown",
      "metadata": {
        "id": "0TVDfODjc4Rf",
        "colab_type": "text"
      },
      "source": [
        "Problem #1"
      ]
    },
    {
      "cell_type": "code",
      "metadata": {
        "id": "0DXvxPL7c6Rn",
        "colab_type": "code",
        "colab": {
          "base_uri": "https://localhost:8080/",
          "height": 34
        },
        "outputId": "a68056d3-c792-447a-d9e2-99df71487551"
      },
      "source": [
        "count_even = 0\n",
        "\n",
        "for num in range(1, 1001):\n",
        "    if num % 2 == 0:\n",
        "        count_even = count_even + num\n",
        "\n",
        "print(\"Sum of even numbers from 1 to 1000 is\", count_even)\n",
        "\n"
      ],
      "execution_count": 5,
      "outputs": [
        {
          "output_type": "stream",
          "text": [
            "Sum of even numbers from 1 to 1000 is 250500\n"
          ],
          "name": "stdout"
        }
      ]
    },
    {
      "cell_type": "markdown",
      "metadata": {
        "id": "jpDjLCs5f2AP",
        "colab_type": "text"
      },
      "source": [
        "Problem #2"
      ]
    },
    {
      "cell_type": "code",
      "metadata": {
        "id": "1A7rDUvWf3KB",
        "colab_type": "code",
        "colab": {
          "base_uri": "https://localhost:8080/",
          "height": 34
        },
        "outputId": "9b568b7d-f2d9-4dec-fcbe-6431f7a9008c"
      },
      "source": [
        "def recursive_product(list1):\n",
        "    total = 1\n",
        "    for element in list1:\n",
        "        if type(element) is list:\n",
        "            total *= recursive_product(element)\n",
        "        else:\n",
        "            total *= element\n",
        "    return total \n",
        "      \n",
        "list1 = [12,10,3,2,[6,[7,8,9],19,21],21]  \n",
        "print(recursive_product(list1))"
      ],
      "execution_count": 15,
      "outputs": [
        {
          "output_type": "stream",
          "text": [
            "18243429120\n"
          ],
          "name": "stdout"
        }
      ]
    },
    {
      "cell_type": "markdown",
      "metadata": {
        "id": "aR9O9rHjikL7",
        "colab_type": "text"
      },
      "source": [
        "Problem #3"
      ]
    },
    {
      "cell_type": "code",
      "metadata": {
        "id": "xJaAfOrsil96",
        "colab_type": "code",
        "colab": {
          "base_uri": "https://localhost:8080/",
          "height": 34
        },
        "outputId": "6f3c8142-b524-497d-f180-065ea934f88a"
      },
      "source": [
        "def count_numbers(numbers):\n",
        "  a = dict((x, numbers.count(x)) for x in set(numbers))\n",
        "\n",
        "  print(a)\n",
        "\n",
        "count_numbers([1,3,2,4,2,3,2,2,3,2,2,4,2,32,3,2,4,2,3,5,3,2,4,2,2,4,2,2,4,2,2,3,1,3,2,3])\n",
        "\n",
        "\n"
      ],
      "execution_count": 26,
      "outputs": [
        {
          "output_type": "stream",
          "text": [
            "{32: 1, 1: 2, 2: 17, 3: 9, 4: 6, 5: 1}\n"
          ],
          "name": "stdout"
        }
      ]
    },
    {
      "cell_type": "markdown",
      "metadata": {
        "id": "DDHefMZMBlBB",
        "colab_type": "text"
      },
      "source": [
        "Problem #5"
      ]
    },
    {
      "cell_type": "code",
      "metadata": {
        "id": "XRn3DXUgBqeE",
        "colab_type": "code",
        "colab": {
          "base_uri": "https://localhost:8080/",
          "height": 34
        },
        "outputId": "b75cb442-aa5e-4af8-ce7b-53593d2f3704"
      },
      "source": [
        "import numpy as np\n",
        "\n",
        "def matrix_array(matrix):\n",
        "  x = np.ravel(matrix)\n",
        "\n",
        "  cutoff = 20\n",
        "\n",
        "  new_array = []\n",
        "\n",
        "  for z in x:\n",
        "\n",
        "    if z > cutoff:\n",
        "      new_array.append(0)\n",
        "\n",
        "    else:\n",
        "      new_array.append(z)\n",
        "\n",
        "  x = np.array(new_array)\n",
        "\n",
        "  print(x)\n",
        "\n",
        "matrix_array([[23,43,12],[32,12,52],[15,35,52],[19,28,56]])\n",
        "\n",
        "file1 = open(\"array.txt\",\"w\")\n",
        "\n",
        "for y in range(len(matrix_array([[23,43,12],[32,12,52],[15,35,52],[19,28,56]]))):\n",
        "  file1.write(\"%d \" %(matrix_array[y]))\n",
        "  f.write(\"\\n\")\n",
        "\n",
        "file1.close()\n",
        "\n",
        "file2 = open(\"array.txt\",\"r\")"
      ],
      "execution_count": 32,
      "outputs": [
        {
          "output_type": "stream",
          "text": [
            "[ 0  0 12  0 12  0 15  0  0 19  0  0]\n"
          ],
          "name": "stdout"
        }
      ]
    },
    {
      "cell_type": "markdown",
      "metadata": {
        "id": "uzySluR9ICmZ",
        "colab_type": "text"
      },
      "source": [
        "Problem #4"
      ]
    },
    {
      "cell_type": "code",
      "metadata": {
        "id": "49Xg_azfIEEk",
        "colab_type": "code",
        "colab": {
          "base_uri": "https://localhost:8080/",
          "height": 68
        },
        "outputId": "313c9a12-6629-495a-fe34-3c80c843efd4"
      },
      "source": [
        "class Point:\n",
        "\n",
        "  def __init__(self, x=0, y=0):\n",
        "    self.x=x\n",
        "    self.y=y\n",
        "\n",
        "  def __str__(self):\n",
        "    return \"({0},{1})\".format(self.x, self.y)\n",
        "\n",
        "  def __add__(self, other):\n",
        "    return Point(other.x + self.x, other.y + self.y)\n",
        "\n",
        "def print_point(pt):\n",
        "  print(\"({0},{1})\".format(pt.x, pt.y))\n",
        "\n",
        "p = Point()\n",
        "q = Point(8, 11)\n",
        "r = Point(12, 14)\n",
        "\n",
        "print('The Point is', p)\n",
        "print('The Point is', q)\n",
        "print('The sum of the points are', q + r)\n"
      ],
      "execution_count": 51,
      "outputs": [
        {
          "output_type": "stream",
          "text": [
            "The Point is (0,0)\n",
            "The Point is (8,11)\n",
            "The sum of the points are (20,25)\n"
          ],
          "name": "stdout"
        }
      ]
    },
    {
      "cell_type": "markdown",
      "metadata": {
        "id": "-e2zmPfVMf2h",
        "colab_type": "text"
      },
      "source": [
        "Question #6"
      ]
    },
    {
      "cell_type": "code",
      "metadata": {
        "id": "VFu1qjG-Kb0M",
        "colab_type": "code",
        "colab": {}
      },
      "source": [
        "import pymysql\n",
        "\n",
        "def conn_sql():\n",
        "  db = pymysql.connect(\"localhost\", \"root\", \"python3020\", \"world\")\n",
        "  dbcursor = db.cursor()\n",
        "  return (db, dbcursor)\n",
        "\n",
        "def AvgPopulation():\n",
        "  conn_sql = conn_sql()\n",
        "  sql=\"select avg(Population), Continent from country group by Continent\"\n",
        "  conn_sql[1].execute(sql)\n",
        "  results = conn_sql[1].fetchall()\n",
        "  conn_sql[0].close()\n",
        "  conn_sql[1].close()\n",
        "  print(results)\n",
        "\n",
        "AvgPopulation()"
      ],
      "execution_count": 0,
      "outputs": []
    },
    {
      "cell_type": "markdown",
      "metadata": {
        "id": "OuNcVsuAKcqT",
        "colab_type": "text"
      },
      "source": [
        "Question #8"
      ]
    },
    {
      "cell_type": "code",
      "metadata": {
        "id": "ZrCGplmGKk6c",
        "colab_type": "code",
        "colab": {}
      },
      "source": [
        "import pandas as pd\n",
        "import matplotlib.pyplot as plt\n",
        "\n",
        "df = pd.read_csv('energy-production.csv')\n",
        "\n",
        "def retreive_production(year):\n",
        "  year = df['Year']\n",
        "  column = ['Solar/PV Energy', 'Geothermal Energy', 'Wind Energy', 'Natural Gas Plant Liquids',\n",
        "            'HydroElectric Power', 'Biomass Energy', 'Nuclear Electric Power', \n",
        "            'Crude Oil', 'Natural Gas (Dry)', 'Coal']\n",
        "  \n",
        "  plt.ylim(0, 30)\n",
        "  plt.bar(df[columns], df[columns].values.T)\n",
        "  plt.show()\n",
        "  \n",
        "\n",
        "year = input(\"Please input a year from 1973 to 2014:\")\n",
        "retreive_production(year)\n",
        "\n"
      ],
      "execution_count": 0,
      "outputs": []
    },
    {
      "cell_type": "markdown",
      "metadata": {
        "id": "XHNUgB6xoy9i",
        "colab_type": "text"
      },
      "source": [
        "Question #10"
      ]
    },
    {
      "cell_type": "code",
      "metadata": {
        "id": "CGY4X6cZo0mv",
        "colab_type": "code",
        "colab": {}
      },
      "source": [
        "import pymysql\n",
        "from pylab import *\n",
        "\n",
        "def conn_sql():\n",
        "  db = pymysql.connect(\"localhost\", \"root\", \"python3020\", \"world\")\n",
        "  dbcursor = db.cursor()\n",
        "  return (db, dbcursor)\n",
        "\n",
        "def TotalPopulation():\n",
        "  conn_sql = conn_sql()\n",
        "  sql=\"select sum(Population), Continent from country group by Continent\"\n",
        "  conn_sql[1].execute(sql)\n",
        "  results = conn_sql[1].fetchall()\n",
        "  mylist = []\n",
        "  labels = ['Antartica', 'South America', 'North America', 'Oceania', 'Europe',\n",
        "            'Africa', 'Asia']\n",
        "  for row in results: \n",
        "    l= map(int,row) \n",
        "    mylist.append(l)\n",
        "  conn_sql[0].close()\n",
        "  conn_sql[1].close()\n",
        "  \n",
        "  counts = mylist\n",
        "  pie(counts, labels = labels)\n",
        "\n",
        "TotalPopulation()"
      ],
      "execution_count": 0,
      "outputs": []
    },
    {
      "cell_type": "markdown",
      "metadata": {
        "id": "WQDkjTDau4hp",
        "colab_type": "text"
      },
      "source": [
        "Question #9"
      ]
    },
    {
      "cell_type": "code",
      "metadata": {
        "id": "9OPCwaKd1MV1",
        "colab_type": "code",
        "colab": {}
      },
      "source": [
        "import xlrd\n",
        "\n",
        "excel = \"catering_sale_all.xls\"\n",
        "workbook = xlrd.open_workbook(excel)\n",
        "sheet = workbook.sheet_by_name('Sheet1')\n",
        "\n",
        "input_num = 1\n",
        "\n",
        "while(input_num != 0):\n",
        "\n",
        "  print(\"\\n0 exit\")\n",
        "  print(\"1 Chicken feet\")\n",
        "  print(\"2 steamed dumplings\")\n",
        "  print(\"3 ribs\");\n",
        "  print(\"4 full chicken\")\n",
        "  print(\"5 stuffed bun\")\n",
        "  print(\"6 flowering cabbage\")\n",
        "  print(\"7 doufu\")\n",
        "  print(\"8 chive dumplings\")\n",
        "  print(\"9 pudding\")\n",
        "  print(\"10 original cabbage\")\n",
        "\n",
        "  input_num = int(input(\"\\nPlease enter a number between 0 and 10\"))\n",
        "  \n",
        "  total_item = 0\n",
        "\n",
        "  if(input_num != 0):\n",
        "\n",
        "    for values in sheet.col_values(input_num):\n",
        "\n",
        "      if isinstance(value, float):\n",
        "\n",
        "        total_item = total_item + values\n",
        "\n",
        "print(\"\\nThe total sales volume of sales for one month: \", total_item)"
      ],
      "execution_count": 0,
      "outputs": []
    },
    {
      "cell_type": "markdown",
      "metadata": {
        "id": "BkqFNyEV1NOJ",
        "colab_type": "text"
      },
      "source": [
        "Question #7"
      ]
    }
  ]
}