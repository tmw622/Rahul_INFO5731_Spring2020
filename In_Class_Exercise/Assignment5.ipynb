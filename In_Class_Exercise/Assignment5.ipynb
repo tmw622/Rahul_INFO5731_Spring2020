{
  "nbformat": 4,
  "nbformat_minor": 0,
  "metadata": {
    "colab": {
      "name": "Assignment5.ipynb",
      "provenance": [],
      "authorship_tag": "ABX9TyOcl1Tp4T+JvZtktiTQ+AXs",
      "include_colab_link": true
    },
    "kernelspec": {
      "name": "python3",
      "display_name": "Python 3"
    }
  },
  "cells": [
    {
      "cell_type": "markdown",
      "metadata": {
        "id": "view-in-github",
        "colab_type": "text"
      },
      "source": [
        "<a href=\"https://colab.research.google.com/github/ettubrute-INFO/Rahul_INFO5731_Spring2020/blob/master/In_Class_Exercise/Assignment5.ipynb\" target=\"_parent\"><img src=\"https://colab.research.google.com/assets/colab-badge.svg\" alt=\"Open In Colab\"/></a>"
      ]
    },
    {
      "cell_type": "markdown",
      "metadata": {
        "id": "2mpKASCweWnH",
        "colab_type": "text"
      },
      "source": [
        "Problem #1"
      ]
    },
    {
      "cell_type": "code",
      "metadata": {
        "id": "0qWZU58JeYuJ",
        "colab_type": "code",
        "colab": {
          "base_uri": "https://localhost:8080/",
          "height": 34
        },
        "outputId": "7d9e7344-9472-43ca-ec05-fcd20e882e61"
      },
      "source": [
        "student = (11253721, \"Sagi\", \"Rahul\", \"INFO3020\", \"INFO4250\")\n",
        "\n",
        "def tup(x):\n",
        "    (id, lName,  fName, course1, course2) = x\n",
        "    return (course1, course2)\n",
        "\n",
        "print(tup(student))"
      ],
      "execution_count": 1,
      "outputs": [
        {
          "output_type": "stream",
          "text": [
            "('INFO3020', 'INFO4250')\n"
          ],
          "name": "stdout"
        }
      ]
    },
    {
      "cell_type": "markdown",
      "metadata": {
        "id": "FtlHwfyFedZ_",
        "colab_type": "text"
      },
      "source": [
        "Problem #2"
      ]
    },
    {
      "cell_type": "code",
      "metadata": {
        "id": "OjkhEA03efMh",
        "colab_type": "code",
        "colab": {
          "base_uri": "https://localhost:8080/",
          "height": 34
        },
        "outputId": "22609147-2848-4267-e080-f29857a7dadf"
      },
      "source": [
        "x = 0\n",
        "y = 0\n",
        "\n",
        "def Mat(x, y, z):\n",
        "    mat = []\n",
        "    for i in range(x):\n",
        "        rowList = []\n",
        "        for j in range(y):\n",
        "            rowList.append(z[x * i + j])\n",
        "        mat.append(rowList)\n",
        "\n",
        "    return mat\n",
        "\n",
        "def main():\n",
        "    matrix = ['R','A','H','U','L','S','A','G','I']\n",
        "    inputMat = Mat(3,3,matrix)\n",
        "    return inputMat\n",
        "\n",
        "\n",
        "print(main())"
      ],
      "execution_count": 2,
      "outputs": [
        {
          "output_type": "stream",
          "text": [
            "[['R', 'A', 'H'], ['U', 'L', 'S'], ['A', 'G', 'I']]\n"
          ],
          "name": "stdout"
        }
      ]
    },
    {
      "cell_type": "markdown",
      "metadata": {
        "id": "tflPC3tFena7",
        "colab_type": "text"
      },
      "source": [
        "Problem #3"
      ]
    },
    {
      "cell_type": "code",
      "metadata": {
        "id": "ez0DHBOMepFR",
        "colab_type": "code",
        "colab": {
          "base_uri": "https://localhost:8080/",
          "height": 748
        },
        "outputId": "27a42661-6a6b-4603-b958-2c84774952f0"
      },
      "source": [
        "def freq(passage):\n",
        "\n",
        "    passage = passage.split()\n",
        "    passes = []\n",
        "\n",
        "    for i in passage:\n",
        "\n",
        "        if i not in passes:\n",
        "\n",
        "            passes.append(i)\n",
        "\n",
        "    for i in range(0, len(passes)):\n",
        "        print('Frequency of', passes[i], 'is :', passage.count(passes[i]))\n",
        "\n",
        "\n",
        "def main():\n",
        "    passage = \"Sometimes we make the process more complicated than we need to. \" \\\n",
        "              \"We will never make a journey of a thousand miles by fretting about how long it will take or \" \\\n",
        "              \"how hard it will be. We make the journey by taking each day step by step and then repeating it again \" \\\n",
        "              \"and again until we reach our destination. Read more at https://www.brainyquote.com/topics/long-quotes\"\n",
        "    freq(passage)\n",
        "\n",
        "\n",
        "if __name__ == \"__main__\":\n",
        "    main()"
      ],
      "execution_count": 4,
      "outputs": [
        {
          "output_type": "stream",
          "text": [
            "Frequency of Sometimes is : 1\n",
            "Frequency of we is : 3\n",
            "Frequency of make is : 3\n",
            "Frequency of the is : 2\n",
            "Frequency of process is : 1\n",
            "Frequency of more is : 2\n",
            "Frequency of complicated is : 1\n",
            "Frequency of than is : 1\n",
            "Frequency of need is : 1\n",
            "Frequency of to. is : 1\n",
            "Frequency of We is : 2\n",
            "Frequency of will is : 3\n",
            "Frequency of never is : 1\n",
            "Frequency of a is : 2\n",
            "Frequency of journey is : 2\n",
            "Frequency of of is : 1\n",
            "Frequency of thousand is : 1\n",
            "Frequency of miles is : 1\n",
            "Frequency of by is : 3\n",
            "Frequency of fretting is : 1\n",
            "Frequency of about is : 1\n",
            "Frequency of how is : 2\n",
            "Frequency of long is : 1\n",
            "Frequency of it is : 3\n",
            "Frequency of take is : 1\n",
            "Frequency of or is : 1\n",
            "Frequency of hard is : 1\n",
            "Frequency of be. is : 1\n",
            "Frequency of taking is : 1\n",
            "Frequency of each is : 1\n",
            "Frequency of day is : 1\n",
            "Frequency of step is : 2\n",
            "Frequency of and is : 2\n",
            "Frequency of then is : 1\n",
            "Frequency of repeating is : 1\n",
            "Frequency of again is : 2\n",
            "Frequency of until is : 1\n",
            "Frequency of reach is : 1\n",
            "Frequency of our is : 1\n",
            "Frequency of destination. is : 1\n",
            "Frequency of Read is : 1\n",
            "Frequency of at is : 1\n",
            "Frequency of https://www.brainyquote.com/topics/long-quotes is : 1\n"
          ],
          "name": "stdout"
        }
      ]
    }
  ]
}