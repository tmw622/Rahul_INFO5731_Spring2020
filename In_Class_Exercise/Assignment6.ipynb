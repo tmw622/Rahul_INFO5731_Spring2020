{
  "nbformat": 4,
  "nbformat_minor": 0,
  "metadata": {
    "colab": {
      "name": "Assignment6.ipynb",
      "provenance": [],
      "collapsed_sections": [],
      "authorship_tag": "ABX9TyPSC/yE0+mHvDxy4H2vFcCz",
      "include_colab_link": true
    },
    "kernelspec": {
      "name": "python3",
      "display_name": "Python 3"
    }
  },
  "cells": [
    {
      "cell_type": "markdown",
      "metadata": {
        "id": "view-in-github",
        "colab_type": "text"
      },
      "source": [
        "<a href=\"https://colab.research.google.com/github/ettubrute-INFO/Rahul_INFO5731_Spring2020/blob/master/In_Class_Exercise/Assignment6.ipynb\" target=\"_parent\"><img src=\"https://colab.research.google.com/assets/colab-badge.svg\" alt=\"Open In Colab\"/></a>"
      ]
    },
    {
      "cell_type": "markdown",
      "metadata": {
        "id": "AI6GrxXUoOF7",
        "colab_type": "text"
      },
      "source": [
        "Question #1"
      ]
    },
    {
      "cell_type": "code",
      "metadata": {
        "colab_type": "code",
        "id": "a2YfUmwrrQFp",
        "colab": {}
      },
      "source": [
        "import numpy as np\n",
        "\n",
        "def number():\n",
        "    inputnum = \"10, 15, 23, 98, 309, 342, 32, 1000, 234, 108, 110, 23\"\n",
        "\n",
        "    with open(\"input.txt\",\"w\") as inputfile:\n",
        "        inputfile.write(inputnum)\n",
        "\n",
        "    inputfile.close()\n",
        "\n",
        "def chinput():\n",
        "    intlist = []\n",
        "\n",
        "    with open(\"input.txt\",\"r\") as readfile:\n",
        "        inputnum = readfile.read()\n",
        "        intlist = list(map(int, inputnum.split(\",\")))\n",
        "\n",
        "    readfile.close()\n",
        "\n",
        "    inputarray = np.array(intlist)\n",
        "    inputarray[inputarray > 100] = 100\n",
        "\n",
        "    with open(\"finalinput.txt\",\"w\") as actfile:\n",
        "        actfile.write(str(inputarray))\n",
        "    actfile.close()\n",
        "\n",
        "number()\n",
        "chinput()"
      ],
      "execution_count": 0,
      "outputs": []
    },
    {
      "cell_type": "markdown",
      "metadata": {
        "id": "cMQEldd8rSuX",
        "colab_type": "text"
      },
      "source": [
        "Question #2"
      ]
    },
    {
      "cell_type": "code",
      "metadata": {
        "id": "AMon_31prU1D",
        "colab_type": "code",
        "colab": {
          "base_uri": "https://localhost:8080/",
          "height": 34
        },
        "outputId": "c67600e6-7671-40bf-dc61-7fb6b9a295a6"
      },
      "source": [
        "import random\n",
        "\n",
        "studentlist = ((\"4000\",\"Rahul\"), (\"4001\",\"Bobby\"), (\"4003\",\"Samir\"), \n",
        "               (\"4004\",\"Maria\"), (\"4005\",\"Lionel\"), (\"4006\",\"Ingrid\"), \n",
        "               (\"4007\",\"Arjuna\"), (\"4008\",\"Tyson\"), (\"1009\",\"Josh\"),\n",
        "               (\"4010\",\"Connor\"), (\"4011\",\"Myles\"), (\"4012\",\"Cristiano\"))\n",
        "\n",
        "def listofstudents():\n",
        "\n",
        "    with open(\"listofstudents.txt\", \"w\") as createstud:\n",
        "\n",
        "        for idstud, namestud in studentlist:\n",
        "            randomstudent = idstud + \",\" + namestud + \"*\"\n",
        "            createstud.write(randomstudent)\n",
        "\n",
        "    createstud.close()\n",
        "\n",
        "def orderstudent():\n",
        "\n",
        "    with open(\"listofstudents.txt\", \"r\") as readstud:\n",
        "\n",
        "        randomop = random.Random()\n",
        "        positionstud = randomop.randrange(0,12)\n",
        "        stud = readstud.read()\n",
        "        stud = stud.split(\"*\")\n",
        "        print(stud[positionstud])\n",
        "\n",
        "listofstudents()\n",
        "orderstudent()"
      ],
      "execution_count": 3,
      "outputs": [
        {
          "output_type": "stream",
          "text": [
            "4011,Myles\n"
          ],
          "name": "stdout"
        }
      ]
    }
  ]
}