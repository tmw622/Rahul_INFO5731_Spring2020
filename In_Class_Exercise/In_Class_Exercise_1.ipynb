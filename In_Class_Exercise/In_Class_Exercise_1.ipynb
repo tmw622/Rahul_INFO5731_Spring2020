{
  "nbformat": 4,
  "nbformat_minor": 0,
  "metadata": {
    "colab": {
      "name": "In_Class_Exercise_1.ipynb",
      "provenance": [],
      "authorship_tag": "ABX9TyN0W+qV7+JrrXjztoVJUgvR",
      "include_colab_link": true
    },
    "kernelspec": {
      "name": "python3",
      "display_name": "Python 3"
    }
  },
  "cells": [
    {
      "cell_type": "markdown",
      "metadata": {
        "id": "view-in-github",
        "colab_type": "text"
      },
      "source": [
        "<a href=\"https://colab.research.google.com/github/ettubrute-INFO/Rahul_INFO5731_Spring2020/blob/master/In_Class_Exercise/In_Class_Exercise_1.ipynb\" target=\"_parent\"><img src=\"https://colab.research.google.com/assets/colab-badge.svg\" alt=\"Open In Colab\"/></a>"
      ]
    },
    {
      "cell_type": "code",
      "metadata": {
        "id": "76tGE3a6rqZ7",
        "colab_type": "code",
        "colab": {}
      },
      "source": [
        "print(\"Hello World\")"
      ],
      "execution_count": 0,
      "outputs": []
    },
    {
      "cell_type": "code",
      "metadata": {
        "id": "qfaftEwxsMCT",
        "colab_type": "code",
        "colab": {}
      },
      "source": [
        "First ever Python code."
      ],
      "execution_count": 0,
      "outputs": []
    },
    {
      "cell_type": "markdown",
      "metadata": {
        "id": "vbS_p1f0sPHt",
        "colab_type": "text"
      },
      "source": [
        ""
      ]
    }
  ]
}