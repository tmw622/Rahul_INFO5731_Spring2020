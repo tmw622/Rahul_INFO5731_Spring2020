{
  "nbformat": 4,
  "nbformat_minor": 0,
  "metadata": {
    "colab": {
      "name": "Assignment4.ipynb",
      "provenance": [],
      "authorship_tag": "ABX9TyM6EqcBh1ntwEgi0WSZTCR3",
      "include_colab_link": true
    },
    "kernelspec": {
      "name": "python3",
      "display_name": "Python 3"
    }
  },
  "cells": [
    {
      "cell_type": "markdown",
      "metadata": {
        "id": "view-in-github",
        "colab_type": "text"
      },
      "source": [
        "<a href=\"https://colab.research.google.com/github/ettubrute-INFO/Rahul_INFO5731_Spring2020/blob/master/In_Class_Exercise/Assignment4.ipynb\" target=\"_parent\"><img src=\"https://colab.research.google.com/assets/colab-badge.svg\" alt=\"Open In Colab\"/></a>"
      ]
    },
    {
      "cell_type": "code",
      "metadata": {
        "id": "Pum_pSXLndNN",
        "colab_type": "code",
        "colab": {
          "base_uri": "https://localhost:8080/",
          "height": 34
        },
        "outputId": "eaed3b4c-535a-48fa-dda3-0462f1122766"
      },
      "source": [
        "import os\n",
        "\n",
        "def file_name(filename):\n",
        "    file_extension = os.path.splitext(filename)\n",
        "    return file_extension\n",
        "\n",
        "print(file_name('/~/PycharmProjects/Assignment4.py'))"
      ],
      "execution_count": 1,
      "outputs": [
        {
          "output_type": "stream",
          "text": [
            "('/~/PycharmProjects/Assignment4', '.py')\n"
          ],
          "name": "stdout"
        }
      ]
    },
    {
      "cell_type": "markdown",
      "metadata": {
        "id": "GW0i7tFonz98",
        "colab_type": "text"
      },
      "source": [
        "Problem #1"
      ]
    },
    {
      "cell_type": "code",
      "metadata": {
        "id": "dyA160Qbn2vw",
        "colab_type": "code",
        "colab": {
          "base_uri": "https://localhost:8080/",
          "height": 54
        },
        "outputId": "e529487a-55f5-4cb6-a395-c1755c0b187a"
      },
      "source": [
        "def rep(sent):\n",
        "    print(sent.replace(\"o\", \"s\"))\n",
        "\n",
        "rep(\"There is a powerful force within us, an unilluminated part of the mind – separate from the conscious mind that is \"\n",
        "    \"constantly at work molding our thought, feelings, and actions.\")"
      ],
      "execution_count": 2,
      "outputs": [
        {
          "output_type": "stream",
          "text": [
            "There is a pswerful fsrce within us, an unilluminated part sf the mind – separate frsm the csnscisus mind that is csnstantly at wsrk mslding sur thsught, feelings, and actisns.\n"
          ],
          "name": "stdout"
        }
      ]
    }
  ]
}