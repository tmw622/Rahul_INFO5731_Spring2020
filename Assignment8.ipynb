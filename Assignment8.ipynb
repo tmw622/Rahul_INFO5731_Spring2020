{
  "nbformat": 4,
  "nbformat_minor": 0,
  "metadata": {
    "colab": {
      "name": "Assignment8.ipynb",
      "provenance": [],
      "authorship_tag": "ABX9TyNhcobxYH/4oh9btVixuyYq",
      "include_colab_link": true
    },
    "kernelspec": {
      "name": "python3",
      "display_name": "Python 3"
    }
  },
  "cells": [
    {
      "cell_type": "markdown",
      "metadata": {
        "id": "view-in-github",
        "colab_type": "text"
      },
      "source": [
        "<a href=\"https://colab.research.google.com/github/ettubrute-INFO/Rahul_INFO5731_Spring2020/blob/master/Assignment8.ipynb\" target=\"_parent\"><img src=\"https://colab.research.google.com/assets/colab-badge.svg\" alt=\"Open In Colab\"/></a>"
      ]
    },
    {
      "cell_type": "code",
      "metadata": {
        "id": "3I84G-cmoi-S",
        "colab_type": "code",
        "colab": {
          "base_uri": "https://localhost:8080/",
          "height": 34
        },
        "outputId": "4dbd9ae9-ec89-4485-975d-89efa2b1142d"
      },
      "source": [
        "class Point:\n",
        "  def __init__(self, x=0, y=0):\n",
        "    self.x = x\n",
        "    self.y = y\n",
        "\n",
        "  def origin_distance(self):\n",
        "    return (self.x**2 + self.y**2)**0.5\n",
        "\n",
        "  def __str__(self):\n",
        "    return \"({0},{1})\".format(self.x, self.y)\n",
        "\n",
        "  def midpoint(self, halfway):\n",
        "    mx=(self.x + halfway.x)/2\n",
        "    my=(self.y + halfway.y)/2\n",
        "    return Point(mx, my)\n",
        "\n",
        "import math\n",
        "\n",
        "def distance(point1, point2):\n",
        "  distanceofx = point1.x - point2.x\n",
        "  distanceofy = point1.y - point2.y\n",
        "  return math.sqrt(distanceofx**2 + distanceofy**2)\n",
        "\n",
        "point1 = Point(10, 12)\n",
        "point2 = Point(5, 12)\n",
        "distance(point1, point2)"
      ],
      "execution_count": 8,
      "outputs": [
        {
          "output_type": "execute_result",
          "data": {
            "text/plain": [
              "5.0"
            ]
          },
          "metadata": {
            "tags": []
          },
          "execution_count": 8
        }
      ]
    },
    {
      "cell_type": "markdown",
      "metadata": {
        "id": "0HzIx93cokuv",
        "colab_type": "text"
      },
      "source": [
        "Question 1"
      ]
    },
    {
      "cell_type": "code",
      "metadata": {
        "id": "MQP1WyxRomAg",
        "colab_type": "code",
        "colab": {
          "base_uri": "https://localhost:8080/",
          "height": 51
        },
        "outputId": "1267de11-3f7e-4c7c-ad6c-e6dcee190824"
      },
      "source": [
        "class Point:\n",
        "  def __init__(self, x=0, y=0):\n",
        "    self.x = x\n",
        "    self.y = y\n",
        "\n",
        "  def origin_distance(self):\n",
        "    return (self.x**2 + self.y**2)**0.5\n",
        "\n",
        "  def __str__(self):\n",
        "    return \"({0},{1})\".format(self.x, self.y)\n",
        "\n",
        "  def midpoint(self, halfway):\n",
        "    mx=(self.x + halfway.x)/2\n",
        "    my=(self.y + halfway.y)/2\n",
        "    return Point(mx, my)\n",
        "\n",
        "  def reflection(self):\n",
        "     return Point(self.x, -self.y)\n",
        "\n",
        "p = Point(10, 12)\n",
        "print(\"The reflection of x of Point(10, 12) is \")\n",
        "print(p.reflection())"
      ],
      "execution_count": 11,
      "outputs": [
        {
          "output_type": "stream",
          "text": [
            "The reflection of x of Point(10, 12) is \n",
            "(10,-12)\n"
          ],
          "name": "stdout"
        }
      ]
    },
    {
      "cell_type": "markdown",
      "metadata": {
        "id": "Ih8pvQA2p-zA",
        "colab_type": "text"
      },
      "source": [
        "Question 2"
      ]
    },
    {
      "cell_type": "code",
      "metadata": {
        "id": "NPAtjvoesfLT",
        "colab_type": "code",
        "colab": {
          "base_uri": "https://localhost:8080/",
          "height": 51
        },
        "outputId": "23313c32-bfd3-4493-abc0-a1c056704557"
      },
      "source": [
        "class Point:\n",
        "  def __init__(self, x=0, y=0):\n",
        "    self.x = x\n",
        "    self.y = y\n",
        "\n",
        "class Rectangle:\n",
        "    def __init__(self, position, width, height):\n",
        "        self.end = position\n",
        "        self.width = width\n",
        "        self.height = height\n",
        "\n",
        "    def __str__(self):\n",
        "        return \"({0},{1},{2})\".format(self.end, self.width, self.height)\n",
        "\n",
        "    def param(self, w, h):\n",
        "        self.width += w\n",
        "        self.height += h\n",
        "\n",
        "    def changeposition(self, distancex, distancey):\n",
        "        self.changeposition.x += distancex\n",
        "        self.changeposition.y += distancey\n",
        "\n",
        "    ## Q3\n",
        "    def area(self):\n",
        "      return self.width * self.height\n",
        "\n",
        "    ## Q4\n",
        "    def reflection(self):\n",
        "      (self.width,self.height) = (self.height,self.width)\n",
        "      # temp=self.width\n",
        "      # self.width=self.height\n",
        "      # self.height=temp\n",
        "    \n",
        "    ## Q5\n",
        "    def testPoint(self, point):\n",
        "      pointx = self.changeposition.x + self.width\n",
        "      pointy = self.changeposition.y + self.height\n",
        "\n",
        "      if point.x in range(se.x,poinlf.positionex + 1) and point.y in range(self.position.y, pointy + 1):\n",
        "          print(\"Point({0},{1}) falls in this rectange\".format(point.x, point.y))\n",
        "      else:\n",
        "          print(\"Point({0},{1}) doesn't fall in this rectange\".format(point.x, point.y))\n",
        "\n",
        "point1 = Point(10, 12)\n",
        "r = Rectangle(point1, 10, 12)\n",
        "print(r.area())\n",
        "\n",
        "r.reflection()\n",
        "print(r)\n",
        "\n",
        "point2 = Point(12,23)"
      ],
      "execution_count": 19,
      "outputs": [
        {
          "output_type": "stream",
          "text": [
            "120\n",
            "(<__main__.Point object at 0x7f45ff008898>,12,10)\n"
          ],
          "name": "stdout"
        }
      ]
    }
  ]
}