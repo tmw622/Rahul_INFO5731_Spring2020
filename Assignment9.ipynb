{
  "nbformat": 4,
  "nbformat_minor": 0,
  "metadata": {
    "colab": {
      "name": "Assignment9.ipynb",
      "provenance": [],
      "authorship_tag": "ABX9TyNHs47BXzJfesIGH84/DPIZ",
      "include_colab_link": true
    },
    "kernelspec": {
      "name": "python3",
      "display_name": "Python 3"
    }
  },
  "cells": [
    {
      "cell_type": "markdown",
      "metadata": {
        "id": "view-in-github",
        "colab_type": "text"
      },
      "source": [
        "<a href=\"https://colab.research.google.com/github/ettubrute-INFO/Rahul_INFO5731_Spring2020/blob/master/Assignment9.ipynb\" target=\"_parent\"><img src=\"https://colab.research.google.com/assets/colab-badge.svg\" alt=\"Open In Colab\"/></a>"
      ]
    },
    {
      "cell_type": "code",
      "metadata": {
        "id": "3I84G-cmoi-S",
        "colab_type": "code",
        "colab": {
          "base_uri": "https://localhost:8080/",
          "height": 51
        },
        "outputId": "299585ee-f720-4c72-e440-336c161b5f1e"
      },
      "source": [
        "import math\n",
        "\n",
        "class Time:\n",
        "\tdef __init__(self, hrs=0, mins=0, sec=0):\n",
        "\t\tsumsec = hrs*3600 + mins*60 + sec\n",
        "\t\tself.hours = sumsec//3600\n",
        "\t\tremainingsec = sumsec % 3600\n",
        "\t\tself.minutes = remainingsec // 60\n",
        "\t\tself.seconds = remainingsec % 60\n",
        "\n",
        "\tdef time_left(self):\n",
        "\t\treturn self.hours*3600 + self.minutes*60 + self.seconds\n",
        "\n",
        "\tdef calc_time(self, time):\n",
        "\t\ttime1 = self.time_left()\n",
        "\t\ttime2 = time.time_left()\n",
        "\n",
        "\t\tintervalsec = math.fabs(time1 - time2)\n",
        "\t\tprint(intervalsec)\n",
        "\t\tintervalmins = 0\n",
        "\n",
        "\t\twhile intervalsec > 0:\n",
        "\t\t\tintervalsec -= 60\n",
        "\t\t\tintervalmins += 1\n",
        "\t\treturn intervalmins\n",
        "\n",
        "time1 = Time(12,20,12)\n",
        "time2 = Time(7,15,59)\n",
        "print(\"The interval of minutes are:\", time1.calc_time(time2))"
      ],
      "execution_count": 24,
      "outputs": [
        {
          "output_type": "stream",
          "text": [
            "18253.0\n",
            "The interval of minutes are: 305\n"
          ],
          "name": "stdout"
        }
      ]
    },
    {
      "cell_type": "markdown",
      "metadata": {
        "id": "0HzIx93cokuv",
        "colab_type": "text"
      },
      "source": [
        "Question 1"
      ]
    },
    {
      "cell_type": "code",
      "metadata": {
        "id": "MQP1WyxRomAg",
        "colab_type": "code",
        "colab": {
          "base_uri": "https://localhost:8080/",
          "height": 51
        },
        "outputId": "ff2822a3-f189-456f-fa63-86d7a5d48973"
      },
      "source": [
        "class Card:\n",
        "  suits=[\"Clubs\",\"Diamonds\",\"Hearts\",\"Spades\"]\n",
        "  ranks=[\"narf\",\"Ace\",\"2\",\"3\",\"4\",\"5\",\"6\",\"7\",\"8\",\"9\",\"10\",\"Jack\",\"Queen\",\"King\"]\n",
        "\n",
        "\n",
        "  def __init__(self,suit=0,rank=0):\n",
        "    self.suit = suit\n",
        "    self.rank = rank\n",
        "\n",
        "  def __str__(self):\n",
        "    return (self.ranks[self.rank]+\" of \"+ self.suits[self.suit])\n",
        "\n",
        "  def cmp(self,other):\n",
        "    if self.suit>other.suit:return 1\n",
        "    if self.suit<other.suit:return -1\n",
        "\n",
        "    if self.ranks[self.rank]==\"Ace\":\n",
        "        print(self.ranks[self.rank])\n",
        "        self.rank=14\n",
        "\n",
        "    if other.ranks[other.rank]==\"Ace\":\n",
        "        print(other.ranks[other.rank])\n",
        "        other.rank=14\n",
        "\n",
        "    if self.rank>other.rank: return 1\n",
        "\n",
        "    if self.rank<other.rank: return -1\n",
        "    return 0\n",
        "\n",
        "\n",
        "  def __eq__(self,other):\n",
        "    return self.cmp(other)==0\n",
        "\n",
        "  def __le__(self,other):\n",
        "    return self.cmp(other)<=0\n",
        "\n",
        "  def __ge__(self,other):\n",
        "    return self.cmp(other)>=0\n",
        "\n",
        "  def __gt__(self,other):\n",
        "    return self.cmp(other)>0\n",
        "\n",
        "  def __lt__(self,other):\n",
        "    return self.cmp(other)<0\n",
        "\n",
        "  def __ne__(self,other):\n",
        "    return self.cmp(other)!=0\n",
        "\n",
        "card1=Card(1, 2)\n",
        "print(\"card1:\",card1)\n",
        "\n",
        "card2=Card(1, 12)\n",
        "print(\"card2:\",card2)"
      ],
      "execution_count": 28,
      "outputs": [
        {
          "output_type": "stream",
          "text": [
            "card1: 2 of Diamonds\n",
            "card2: Queen of Diamonds\n"
          ],
          "name": "stdout"
        }
      ]
    },
    {
      "cell_type": "markdown",
      "metadata": {
        "id": "Ih8pvQA2p-zA",
        "colab_type": "text"
      },
      "source": [
        "Question 2"
      ]
    },
    {
      "cell_type": "code",
      "metadata": {
        "id": "NPAtjvoesfLT",
        "colab_type": "code",
        "colab": {
          "base_uri": "https://localhost:8080/",
          "height": 436
        },
        "outputId": "63c21e19-4cf3-42ba-84a6-37a6bcb383c1"
      },
      "source": [
        "\n",
        "inputint = input(\"please input a number:\")\n",
        "\n",
        "try:\n",
        "  inputint = int(inputint) \n",
        "except ValueError:\n",
        "  inputint = int(input(\"input is invalid, please input a positive int number:\"))\n",
        "  if readposint < 0:\n",
        "    negative_error = ValueError(\"{0} is not a positive number \".format(inputint))\n",
        "    raise negative_error\n",
        "\n",
        "try:\n",
        "  print(inputint)\n",
        "except negative_error:\n",
        "  print(negative_error)"
      ],
      "execution_count": 33,
      "outputs": [
        {
          "output_type": "stream",
          "text": [
            "please input a number:yguvg\n",
            "input is invalid, please input a positive int number:-65\n"
          ],
          "name": "stdout"
        },
        {
          "output_type": "error",
          "ename": "NameError",
          "evalue": "ignored",
          "traceback": [
            "\u001b[0;31m---------------------------------------------------------------------------\u001b[0m",
            "\u001b[0;31mValueError\u001b[0m                                Traceback (most recent call last)",
            "\u001b[0;32m<ipython-input-33-7524e21dcf73>\u001b[0m in \u001b[0;36m<module>\u001b[0;34m()\u001b[0m\n\u001b[1;32m      4\u001b[0m \u001b[0;32mtry\u001b[0m\u001b[0;34m:\u001b[0m\u001b[0;34m\u001b[0m\u001b[0;34m\u001b[0m\u001b[0m\n\u001b[0;32m----> 5\u001b[0;31m   \u001b[0minputint\u001b[0m \u001b[0;34m=\u001b[0m \u001b[0mint\u001b[0m\u001b[0;34m(\u001b[0m\u001b[0minputint\u001b[0m\u001b[0;34m)\u001b[0m\u001b[0;34m\u001b[0m\u001b[0;34m\u001b[0m\u001b[0m\n\u001b[0m\u001b[1;32m      6\u001b[0m \u001b[0;32mexcept\u001b[0m \u001b[0mValueError\u001b[0m\u001b[0;34m:\u001b[0m\u001b[0;34m\u001b[0m\u001b[0;34m\u001b[0m\u001b[0m\n",
            "\u001b[0;31mValueError\u001b[0m: invalid literal for int() with base 10: 'yguvg'",
            "\nDuring handling of the above exception, another exception occurred:\n",
            "\u001b[0;31mNameError\u001b[0m                                 Traceback (most recent call last)",
            "\u001b[0;32m<ipython-input-33-7524e21dcf73>\u001b[0m in \u001b[0;36m<module>\u001b[0;34m()\u001b[0m\n\u001b[1;32m      6\u001b[0m \u001b[0;32mexcept\u001b[0m \u001b[0mValueError\u001b[0m\u001b[0;34m:\u001b[0m\u001b[0;34m\u001b[0m\u001b[0;34m\u001b[0m\u001b[0m\n\u001b[1;32m      7\u001b[0m   \u001b[0minputint\u001b[0m \u001b[0;34m=\u001b[0m \u001b[0mint\u001b[0m\u001b[0;34m(\u001b[0m\u001b[0minput\u001b[0m\u001b[0;34m(\u001b[0m\u001b[0;34m\"input is invalid, please input a positive int number:\"\u001b[0m\u001b[0;34m)\u001b[0m\u001b[0;34m)\u001b[0m\u001b[0;34m\u001b[0m\u001b[0;34m\u001b[0m\u001b[0m\n\u001b[0;32m----> 8\u001b[0;31m   \u001b[0;32mif\u001b[0m \u001b[0mreadposint\u001b[0m \u001b[0;34m<\u001b[0m \u001b[0;36m0\u001b[0m\u001b[0;34m:\u001b[0m\u001b[0;34m\u001b[0m\u001b[0;34m\u001b[0m\u001b[0m\n\u001b[0m\u001b[1;32m      9\u001b[0m     \u001b[0mnegative_error\u001b[0m \u001b[0;34m=\u001b[0m \u001b[0mValueError\u001b[0m\u001b[0;34m(\u001b[0m\u001b[0;34m\"{0} is not a positive number \"\u001b[0m\u001b[0;34m.\u001b[0m\u001b[0mformat\u001b[0m\u001b[0;34m(\u001b[0m\u001b[0minputint\u001b[0m\u001b[0;34m)\u001b[0m\u001b[0;34m)\u001b[0m\u001b[0;34m\u001b[0m\u001b[0;34m\u001b[0m\u001b[0m\n\u001b[1;32m     10\u001b[0m     \u001b[0;32mraise\u001b[0m \u001b[0mnegative_error\u001b[0m\u001b[0;34m\u001b[0m\u001b[0;34m\u001b[0m\u001b[0m\n",
            "\u001b[0;31mNameError\u001b[0m: name 'readposint' is not defined"
          ]
        }
      ]
    }
  ]
}