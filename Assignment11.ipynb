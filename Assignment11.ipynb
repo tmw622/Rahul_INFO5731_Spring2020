{
  "nbformat": 4,
  "nbformat_minor": 0,
  "metadata": {
    "colab": {
      "name": "Assignment11.ipynb",
      "provenance": [],
      "authorship_tag": "ABX9TyNOPPyp0gSy0fKSeZr4mpt7",
      "include_colab_link": true
    },
    "kernelspec": {
      "name": "python3",
      "display_name": "Python 3"
    }
  },
  "cells": [
    {
      "cell_type": "markdown",
      "metadata": {
        "id": "view-in-github",
        "colab_type": "text"
      },
      "source": [
        "<a href=\"https://colab.research.google.com/github/ettubrute-INFO/Rahul_INFO5731_Spring2020/blob/master/Assignment11.ipynb\" target=\"_parent\"><img src=\"https://colab.research.google.com/assets/colab-badge.svg\" alt=\"Open In Colab\"/></a>"
      ]
    },
    {
      "cell_type": "code",
      "metadata": {
        "id": "U5q-jZDLcGyv",
        "colab_type": "code",
        "colab": {}
      },
      "source": [
        "import pandas as pd\n",
        "\n",
        "\n",
        "def maxsale(saledate):\n",
        "    filename = \"catering_sale_all.xls\"\n",
        "    data = pd.read_excel(filename, sheet_name='Sheet1')\n",
        "    row = data.index\n",
        "    saledict = {}\n",
        "    for i in row:\n",
        "        date = str(data['sale date'].at[i])\n",
        "        if date == saledate:\n",
        "            for j in range(len(data.keys())):\n",
        "                    if j>0:\n",
        "                        saledict[data.keys()[j]] = data[data.keys()[j]].at[i]\n",
        "    return saledict\n",
        "\n",
        "def getmax(saledict):\n",
        "    maxkey=max(saledict,key=saledict.get)\n",
        "    maxvalue=saledict[maxkey]\n",
        "    return (maxkey,maxvalue)\n",
        "\n",
        "saledict=getbestsale('2015-01-01 00:00:00')\n",
        "print(getmax(saledict))"
      ],
      "execution_count": 0,
      "outputs": []
    }
  ]
}