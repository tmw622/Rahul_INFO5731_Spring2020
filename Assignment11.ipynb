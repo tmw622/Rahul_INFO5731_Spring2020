{
  "nbformat": 4,
  "nbformat_minor": 0,
  "metadata": {
    "colab": {
      "name": "Assignment11.ipynb",
      "provenance": [],
      "authorship_tag": "ABX9TyM+iElB6xWukoMPJk/qSuA4",
      "include_colab_link": true
    },
    "kernelspec": {
      "name": "python3",
      "display_name": "Python 3"
    }
  },
  "cells": [
    {
      "cell_type": "markdown",
      "metadata": {
        "id": "view-in-github",
        "colab_type": "text"
      },
      "source": [
        "<a href=\"https://colab.research.google.com/github/ettubrute-INFO/Rahul_INFO5731_Spring2020/blob/master/Assignment11.ipynb\" target=\"_parent\"><img src=\"https://colab.research.google.com/assets/colab-badge.svg\" alt=\"Open In Colab\"/></a>"
      ]
    },
    {
      "cell_type": "code",
      "metadata": {
        "id": "U5q-jZDLcGyv",
        "colab_type": "code",
        "colab": {}
      },
      "source": [
        "import pymysql\n",
        "\n",
        "def retrievedata():\n",
        "    database = pymysql.connect(\"rahulsagi\",\"Desktop\",\"python3020\",\"catering_sale_all\")\n",
        "    cursor = database.cursor()\n",
        "    saledate = datetime(input(\"Input the date of sale: \"))\n",
        "    sqlcode = \"select  from sale where \"\n",
        "    cursor.execute(sqlcode)\n",
        "    info = cursor.fetchall()\n",
        "    cursor.close()\n",
        "    db.close()\n",
        "    return info"
      ],
      "execution_count": 0,
      "outputs": []
    }
  ]
}