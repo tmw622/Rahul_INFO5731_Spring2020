{
  "nbformat": 4,
  "nbformat_minor": 0,
  "metadata": {
    "colab": {
      "name": "Assignment11.ipynb",
      "provenance": [],
      "authorship_tag": "ABX9TyM3s2YEt95l8NtKtMNRATGv",
      "include_colab_link": true
    },
    "kernelspec": {
      "name": "python3",
      "display_name": "Python 3"
    }
  },
  "cells": [
    {
      "cell_type": "markdown",
      "metadata": {
        "id": "view-in-github",
        "colab_type": "text"
      },
      "source": [
        "<a href=\"https://colab.research.google.com/github/ettubrute-INFO/Rahul_INFO5731_Spring2020/blob/master/Assignment11.ipynb\" target=\"_parent\"><img src=\"https://colab.research.google.com/assets/colab-badge.svg\" alt=\"Open In Colab\"/></a>"
      ]
    },
    {
      "cell_type": "code",
      "metadata": {
        "id": "0v8ZZ4C00oTG",
        "colab_type": "code",
        "colab": {}
      },
      "source": [
        "import pandas as pd\n",
        "import pymysql\n",
        "\n",
        "def connect_database():\n",
        "    db = pymysql.connect(\"rahulsagi\", \"desktop\", \"python3020\", \"pydb\")\n",
        "    dbcursor = db.cursor()\n",
        "    return (db,dbcursor)\n",
        "\n",
        "def read_csv():\n",
        "    filename = \"ch02-data.csv\"\n",
        "    read = pd.read_csv(filename)\n",
        "    length_read = len(read)\n",
        "    connect = connect_database()\n",
        "\n",
        "    for x in range(length_read):\n",
        "        sql = \"insert into ch02date(dates,numbers) value(%s,%s) \"\n",
        "        values=(read['dates'][i], int(read['numbers'][x]))\n",
        "        connect[1].execute(sql,values)\n",
        "        connect[0].commit()\n",
        "\n",
        "    connect[1].close()\n",
        "    connect[0].close()\n",
        "\n",
        "\n",
        "def sum_of_dates():\n",
        "    connect = connect_database()\n",
        "    sql = \"select dates, sum(numbers) as total from ch02date group by dates\"\n",
        "    connect[1].execute(sql)\n",
        "    query = connect[1].fetchall()\n",
        "\n",
        "    connect[0].close()\n",
        "    connect[1].close()\n",
        "    return query\n",
        "\n",
        "def excel_export(query):\n",
        "    date = []\n",
        "    sum_dates = []\n",
        "\n",
        "    for row in query:\n",
        "        date.append(row[0])\n",
        "        sum_dates.append(row[1])\n",
        "\n",
        "    head = {'dates': dates, 'sum': sum}\n",
        "    file_path = 'results.xlsx'\n",
        "    writer = pd.ExcelWriter(file_path)\n",
        "\n",
        "    data_frame = pd.DataFrame(head)\n",
        "    data_frame.to_excel(writer, columns=['dates', 'sum'], index=False, encoding='utf-8', sheet_name='results')\n",
        "    writer.save()\n",
        "\n",
        "query = sum_of_dates()\n",
        "excel_export(query)"
      ],
      "execution_count": 0,
      "outputs": []
    },
    {
      "cell_type": "markdown",
      "metadata": {
        "id": "2sD3mfBp2BWe",
        "colab_type": "text"
      },
      "source": [
        "11-1"
      ]
    },
    {
      "cell_type": "code",
      "metadata": {
        "id": "yxWDQT762C1p",
        "colab_type": "code",
        "colab": {}
      },
      "source": [
        "import pandas as pd\n",
        "\n",
        "\n",
        "def sale_best(date_sale):\n",
        "\n",
        "    filename = \"catering_sale_all.xls\"\n",
        "    sale_data = pd.read_excel(filename,sheet_name='Sheet1')\n",
        "    index = sale_data.index\n",
        "    sale_dict = {}\n",
        "\n",
        "    for x in index:\n",
        "        sale_date = str(sale_data['sale date'].at[i])\n",
        "\n",
        "        if sale_date == date_sale:\n",
        "            for y in range(len(sale_data.keys())):\n",
        "                    if y > 0:\n",
        "                        sale_dict[sale_data.keys()[y]] = sale_data[sale_data.keys()[y]].at[x]\n",
        "\n",
        "    return sale_dict\n",
        "\n",
        "def max_sale(sale_dict):\n",
        "    max_sale = max(sale_dict, key = sale_dict.get)\n",
        "    max_sale_value = sale_dict[max_sale]\n",
        "    return (max_sale, max_sale_value)\n",
        "\n",
        "sale_dict = sale_best('2015-01-18 00:00:00')\n",
        "print(max_sale(sale_dict))"
      ],
      "execution_count": 0,
      "outputs": []
    },
    {
      "cell_type": "markdown",
      "metadata": {
        "id": "G5Gl2zyU3cQx",
        "colab_type": "text"
      },
      "source": [
        "11-2"
      ]
    }
  ]
}